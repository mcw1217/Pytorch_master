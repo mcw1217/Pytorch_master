{
 "cells": [
  {
   "cell_type": "markdown",
   "id": "44151186-6822-49d7-bfd0-20abc9836ee9",
   "metadata": {
    "tags": []
   },
   "source": [
    "# 텐서: 다차원 배열\n",
    "* 텐서는 파이토치의 기본 자료구조\n",
    "* 텐서는 일종의 배열 즉, 한 개나 여러 개의 인덱스를 사용해 개별적으로 값에 \n",
    "* 접근할 수 있는 형태의숫자 모음을 저장하는 자료구조이다."
   ]
  },
  {
   "cell_type": "code",
   "execution_count": 2,
   "id": "3238b67c-3703-4407-883f-29234f9476ac",
   "metadata": {},
   "outputs": [
    {
     "data": {
      "text/plain": [
       "1.0"
      ]
     },
     "execution_count": 2,
     "metadata": {},
     "output_type": "execute_result"
    }
   ],
   "source": [
    "# 파이썬 리스트에서 파이토치 텐서로\n",
    "a = [1.0,2.0,1.0]\n",
    "\n",
    "a[0]"
   ]
  },
  {
   "cell_type": "code",
   "execution_count": 14,
   "id": "fde5cef6-1517-4e8c-a13b-8fcaa3994544",
   "metadata": {},
   "outputs": [
    {
     "data": {
      "text/plain": [
       "tensor([[[4., 1.],\n",
       "         [5., 3.],\n",
       "         [2., 1.]]])"
      ]
     },
     "execution_count": 14,
     "metadata": {},
     "output_type": "execute_result"
    }
   ],
   "source": [
    "import torch\n",
    "a = torch.ones(3) # 크기가 3인 1차원 텐서를 만들고 값을 1로 채우기\n",
    "\n",
    "# 파이썬 리스트나 튜플 객체는 메모리가 따로따로 할당 \n",
    "# 반면 텐서는 연속적인 메모리 할당\n",
    "\n",
    "points = torch.zeros(3)\n",
    "points[0]\n",
    "\n",
    "tensor = torch.tensor([1.0,2.0,3.0,4.0,5.0])\n",
    "tensor = torch.tensor([[4.0,1.0], [ 5.0,3.0], [ 2.0,1.0]])\n",
    "tensor[None]\n",
    "\n",
    "img_t = torch.rand(3,5,5) #각각이 [ 채널 크기, 행 크기, 열 크기]\n",
    "weights = torch.tensor([0.2216,0.7152,0.07222])\n",
    "\n"
   ]
  },
  {
   "cell_type": "code",
   "execution_count": null,
   "id": "086d4630-e9eb-4223-b09c-583ceecfa100",
   "metadata": {},
   "outputs": [],
   "source": []
  }
 ],
 "metadata": {
  "kernelspec": {
   "display_name": "Python [conda env:ML]",
   "language": "python",
   "name": "conda-env-ML-py"
  },
  "language_info": {
   "codemirror_mode": {
    "name": "ipython",
    "version": 3
   },
   "file_extension": ".py",
   "mimetype": "text/x-python",
   "name": "python",
   "nbconvert_exporter": "python",
   "pygments_lexer": "ipython3",
   "version": "3.10.6"
  }
 },
 "nbformat": 4,
 "nbformat_minor": 5
}
